{
 "cells": [
  {
   "cell_type": "markdown",
   "id": "0",
   "metadata": {},
   "source": [
    "# Example IMD Radar Data"
   ]
  },
  {
   "cell_type": "code",
   "execution_count": null,
   "id": "1",
   "metadata": {},
   "outputs": [],
   "source": [
    "import os\n",
    "import glob\n",
    "import pyart\n",
    "import requests\n",
    "import subprocess\n",
    "import pyscancf as pcf"
   ]
  },
  {
   "cell_type": "code",
   "execution_count": null,
   "id": "2",
   "metadata": {},
   "outputs": [],
   "source": [
    "# GitHub raw content base URL (for downloading)\n",
    "base_url = (\n",
    "    \"https://raw.githubusercontent.com/syedhamidali/pyscancf_examples/main/data/goa16/\"\n",
    ")\n",
    "api_url = (\n",
    "    \"https://api.github.com/repos/syedhamidali/pyscancf_examples/contents/data/goa16\"\n",
    ")\n",
    "response = requests.get(api_url)\n",
    "files = [item[\"name\"] for item in response.json()]\n",
    "print(files)"
   ]
  },
  {
   "cell_type": "code",
   "execution_count": null,
   "id": "3",
   "metadata": {},
   "outputs": [],
   "source": [
    "# Target directory to save downloaded files\n",
    "target_dir = os.path.join(os.getenv(\"GITHUB_WORKSPACE\", \".\"), \"goa_data\")\n",
    "os.makedirs(target_dir, exist_ok=True)\n",
    "\n",
    "\n",
    "# Function to download files using curl\n",
    "def download_with_curl(file_name):\n",
    "    file_url = base_url + file_name\n",
    "    file_path = os.path.join(target_dir, file_name)\n",
    "\n",
    "    if not os.path.exists(file_path):\n",
    "        print(f\"Downloading {file_name}...\")\n",
    "        subprocess.run([\"curl\", \"-o\", file_path, file_url], check=True)\n",
    "        print(f\"Downloaded {file_name}\")\n",
    "    else:\n",
    "        print(f\"{file_name} already exists.\")\n",
    "\n",
    "    return file_path\n",
    "\n",
    "\n",
    "# Download the files\n",
    "downloaded_files = []\n",
    "for file_name in files:\n",
    "    file_path = download_with_curl(file_name)\n",
    "    downloaded_files.append(file_path)"
   ]
  },
  {
   "cell_type": "code",
   "execution_count": null,
   "id": "4",
   "metadata": {},
   "outputs": [],
   "source": [
    "input_dir = target_dir\n",
    "out_dir = \"outdir\"\n",
    "!rm -rf $out_dir"
   ]
  },
  {
   "cell_type": "code",
   "execution_count": null,
   "id": "5",
   "metadata": {},
   "outputs": [],
   "source": [
    "pcf.cfrad(\n",
    "    input_dir,\n",
    "    out_dir,\n",
    ")"
   ]
  },
  {
   "cell_type": "code",
   "execution_count": null,
   "id": "6",
   "metadata": {},
   "outputs": [],
   "source": [
    "files = sorted(glob.glob(out_dir + \"/*.nc\"))\n",
    "files"
   ]
  },
  {
   "cell_type": "code",
   "execution_count": null,
   "id": "7",
   "metadata": {},
   "outputs": [],
   "source": [
    "for file in files:\n",
    "    radar = pyart.io.read(file)\n",
    "    grid = pcf.get_grid(radar, grid_shape=(20, 401, 401), height=10, length=250)\n",
    "    grid.fields[\"REF\"] = grid.fields.pop(\"Z\")\n",
    "    pcf.plot_cappi(grid, \"REF\")"
   ]
  },
  {
   "cell_type": "code",
   "execution_count": null,
   "id": "8",
   "metadata": {},
   "outputs": [],
   "source": []
  }
 ],
 "metadata": {
  "language_info": {
   "codemirror_mode": {
    "name": "ipython",
    "version": 3
   },
   "file_extension": ".py",
   "mimetype": "text/x-python",
   "name": "python",
   "nbconvert_exporter": "python",
   "pygments_lexer": "ipython3",
   "version": "3.13.3"
  }
 },
 "nbformat": 4,
 "nbformat_minor": 5
}
