{
 "cells": [
  {
   "attachments": {},
   "cell_type": "markdown",
   "id": "486f069d",
   "metadata": {},
   "source": [
    "# PyScanCf Example 1\n",
    "- author: @syedhamidali\n",
    "- date: Sep 8, 2023"
   ]
  },
  {
   "cell_type": "code",
   "execution_count": 1,
   "id": "1c19d180",
   "metadata": {},
   "outputs": [
    {
     "name": "stdout",
     "output_type": "stream",
     "text": [
      "\n",
      "## You are using the Python ARM Radar Toolkit (Py-ART), an open source\n",
      "## library for working with weather radar data. Py-ART is partly\n",
      "## supported by the U.S. Department of Energy as part of the Atmospheric\n",
      "## Radiation Measurement (ARM) Climate Research Facility, an Office of\n",
      "## Science user facility.\n",
      "##\n",
      "## If you use this software to prepare a publication, please cite:\n",
      "##\n",
      "##     JJ Helmus and SM Collis, JORS 2016, doi: 10.5334/jors.119\n",
      "\n"
     ]
    },
    {
     "name": "stdout",
     "output_type": "stream",
     "text": [
      "\n",
      "## Cite PyScanCf:\n",
      "\n",
      "## Syed, H. A., Sayyed, I., Kalapureddy, M. C. R., & Grandhi, K. K. (2021).\n",
      "## PyScanCf – The library for individual sweep datasets of IMD weather radars.\n",
      "## Zenodo. https://doi.org/10.5281/zenodo.5574160\n",
      "\n",
      "999\n"
     ]
    }
   ],
   "source": [
    "import pyscancf as pcf\n",
    "import pyart\n",
    "import glob\n",
    "print(pcf.__version__)"
   ]
  },
  {
   "attachments": {},
   "cell_type": "markdown",
   "id": "026f3ae2",
   "metadata": {},
   "source": [
    "Setup the paths for the input and output data, `!ls $inp` shows the raw IMD data files, this is how the B-type (short range - high resolution) IMD DWR data looks like."
   ]
  },
  {
   "cell_type": "code",
   "execution_count": 2,
   "id": "63144edd",
   "metadata": {
    "scrolled": true
   },
   "outputs": [
    {
     "name": "stdout",
     "output_type": "stream",
     "text": [
      "ls: /Users/syed44/Downloads/Git_Stuff/imd_temp_radar/B/: No such file or directory\r\n"
     ]
    }
   ],
   "source": [
    "inp = \"/Users/syed44/Downloads/Git_Stuff/imd_temp_radar/B/\"\n",
    "out = \"/Users/syed44/Downloads/Git_Stuff/imd_temp_radar/out/\"\n",
    "!ls $inp"
   ]
  },
  {
   "cell_type": "code",
   "execution_count": 3,
   "id": "b5e3bd60",
   "metadata": {},
   "outputs": [
    {
     "name": "stdout",
     "output_type": "stream",
     "text": [
      "Help on function cfrad in module pyscancf.pyscancf:\n",
      "\n",
      "cfrad(input_dir, output_dir, scan_type='B', dualpol=False, gridder=False, plot=None, nf=None)\n",
      "    Aggregate radar data into CfRadial1 format.\n",
      "\n",
      "    Parameters\n",
      "    ----------\n",
      "    input_dir : str\n",
      "        The directory path containing single-sweep radar data files.\n",
      "\n",
      "    output_dir : str\n",
      "        The directory path where the output data will be saved in CfRadial1 format.\n",
      "\n",
      "    scan_type : str, optional\n",
      "        The scan type, either \"B\" for short-range PPI (Plan Position Indicator)\n",
      "        or \"C\" for long-range PPI. Default is \"B\".\n",
      "\n",
      "    dualpol : bool, optional\n",
      "        Specifies whether the radar data contains dual-polarization products\n",
      "        such as ZDR (Differential Reflectivity) and RHOHV (Correlation Coefficient).\n",
      "        Set to True if present, otherwise False. Default is False.\n",
      "\n",
      "    gridder : bool, optional\n",
      "        Indicates whether data gridding should be performed. Set to True for data\n",
      "        gridding, otherwise False. Default is False.\n",
      "\n",
      "    plot : str, optional\n",
      "        Type of plots to generate for visualization. Options include \"REF\" for\n",
      "        reflectivity, \"VEL\" for velocity, \"WIDTH\" for spectrum width, or \"ALL\" for\n",
      "        all available plots. Default is None, which generates no plots.\n",
      "\n",
      "    nf : int, optional\n",
      "        Number of data files to group together during aggregation. Default is None,\n",
      "        meaning all available files will be aggregated together.\n",
      "\n"
     ]
    }
   ],
   "source": [
    "help(pcf.cfrad)"
   ]
  },
  {
   "attachments": {},
   "cell_type": "markdown",
   "id": "5d250c68",
   "metadata": {},
   "source": [
    "Let's see what we have got into `pcf.cfrad()` function. \n",
    "- It aggregates data to cfradial1 data. It takes inputs such as `input_dir`, `output_dir`, `scan_type`, `dualpol`, `gridder`, `plot`, and `nf`.\n",
    "- `input_dir` specifies the path of single sweep data directory, while `output_dir` specifies the path for output data.\n",
    "- `scan_type` takes two options: `B` for short-range PPI, and `C` for long-range PPI. \n",
    "- The `dualpol` parameter is set to True if the data contains dual-polarization products like ZDR and RHOHV. \n",
    "- `gridder` is a boolean parameter, which is set to True if the user wants to create a gridded output. \n",
    "- The `plot` argument is used to generate a cappi plot. It can be set to `REF`, `VELH`, `WIDTH`, or `ALL`. The names are not case-sensitive and will be taken care of by the `plot_cappi()` function. For example, if the data has a `reflectivity` field named `DBZ`, you can still write `REF` or `reflectivity`, and same is for other radar moments.\n",
    "- Lastly, `nf` is an integer parameter that specifies the number of files to group together, it is usually `10` for type `B`, and `2` or `3` for type `C` data."
   ]
  },
  {
   "cell_type": "code",
   "execution_count": 4,
   "id": "a3a6bd88",
   "metadata": {
    "scrolled": true
   },
   "outputs": [],
   "source": [
    "pcf.cfrad(input_dir=inp, output_dir=out, scan_type=\"B\", gridder=True)"
   ]
  },
  {
   "cell_type": "code",
   "execution_count": 5,
   "id": "c92952f1",
   "metadata": {},
   "outputs": [
    {
     "name": "stdout",
     "output_type": "stream",
     "text": [
      "ls: /Users/syed44/Downloads/Git_Stuff/imd_temp_radar/out/: No such file or directory\r\n"
     ]
    }
   ],
   "source": [
    "!ls $out"
   ]
  },
  {
   "cell_type": "code",
   "execution_count": 6,
   "id": "deccfb66",
   "metadata": {
    "scrolled": false
   },
   "outputs": [],
   "source": [
    "files = glob.glob(out+\"grid*\")"
   ]
  },
  {
   "cell_type": "code",
   "execution_count": 7,
   "id": "6e486a77",
   "metadata": {},
   "outputs": [],
   "source": [
    "\n",
    "for file in files:\n",
    "    grid = pyart.io.read_grid(file)\n",
    "    pcf.plot_cappi(grid, \"REF\",\n",
    "                   cmap=\"SyedSpectral\", #optional\n",
    "                   crosshair=False, #optional\n",
    "                   savedir=None, #optional\n",
    "                   show_figure=True, #optional\n",
    "                   vmin=-10,\n",
    "                   vmax=60,)"
   ]
  },
  {
   "cell_type": "code",
   "execution_count": 8,
   "id": "21f019c4",
   "metadata": {},
   "outputs": [],
   "source": [
    "for file in files:\n",
    "    grid = pyart.io.read_grid(file)\n",
    "    pcf.plot_cappi(grid, \"REF\",\n",
    "                   cmap=\"pyart_HomeyerRainbow\", #optional\n",
    "                   crosshair=False, #optional\n",
    "                   savedir=out, #optional\n",
    "                   show_figure=False, #optional\n",
    "    )"
   ]
  },
  {
   "cell_type": "code",
   "execution_count": null,
   "id": "22139929",
   "metadata": {},
   "outputs": [],
   "source": []
  }
 ],
 "metadata": {
  "kernelspec": {
   "display_name": "Python 3 (ipykernel)",
   "language": "python",
   "name": "python3"
  },
  "language_info": {
   "codemirror_mode": {
    "name": "ipython",
    "version": 3
   },
   "file_extension": ".py",
   "mimetype": "text/x-python",
   "name": "python",
   "nbconvert_exporter": "python",
   "pygments_lexer": "ipython3",
   "version": "3.12.10"
  }
 },
 "nbformat": 4,
 "nbformat_minor": 5
}